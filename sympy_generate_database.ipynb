{
 "cells": [
  {
   "cell_type": "markdown",
   "metadata": {
    "colab_type": "text",
    "id": "view-in-github"
   },
   "source": [
    "<a href=\"https://colab.research.google.com/github/galvinograd/symple/blob/dataset_creation/sympy_generate_database.ipynb\" target=\"_parent\"><img src=\"https://colab.research.google.com/assets/colab-badge.svg\" alt=\"Open In Colab\"/></a>"
   ]
  },
  {
   "cell_type": "markdown",
   "metadata": {
    "id": "ViJ5kcRrzg05"
   },
   "source": [
    "\n",
    "# Database\n",
    "\n",
    "Each datapoint (row) should have the following obligatory entries (columns):\n",
    "\n",
    "*   Simplifiable expression\n",
    "*   ...\n",
    "\n",
    "Auxiliary columns:\n",
    "*   Simple form\n",
    "*   Simplification difficulty (e.g. node count difference between complicated and simple forms)\n",
    "*   Intermediate forms\n",
    "*   ...\n",
    "\n",
    "\n",
    "Store expressions as strings. Use str(expr) or sympy.srepr(expr) and sympy.parse_expr(expr_string).\n",
    "\n",
    "\n",
    "# Generate database\n",
    "\n",
    "Can be done in a few steps:\n",
    "\n",
    "1.   Generate random (simple) expressions from list of atoms -- e.g. (x, y, z, randint(), ...). These should be about as complicated as a quadratic polynomial at most.\n",
    "2.   Generate tuple (simple form, complicated form) from random input pair of simple expressions (could also use more than 2, or repeat one expression twice) (e.g. $e_1, e_2 \\to (e_1 e_2, {\\rm expand}(e_1 e_2)$)).\n",
    "3. Further complicate given expression (e.g. $e \\to e(1+e')-e e' $ for $e'$ a random subexpression of $e$, or a random expression). Store (simple form, complicated form).\n",
    "4. Repeat 3 and store intermediate forms in tuple $(s, c(s), c(c(s)), \\dots)$ for $s$ \"simple\" and $c$ \"complicate\".\n",
    "\n",
    "Note: Perhaps step 2 is superfluous.\n",
    "\n",
    "\n",
    "# Random expression generators\n",
    "\n",
    "Perhaps use [this stackexchange post](https://stackoverflow.com/questions/71255333/how-to-generate-random-math-expression-trees-with-sympy) (but generalize to rational, etc.).\n",
    "\n",
    "\n",
    "# Complicators\n",
    "\n",
    "We need to implement a (small) palette of \"complicators\", as in the examples above. These can be radomly sampled during generation. They should give simplifiable expressions.\n",
    "\n",
    "Polynomial complicators:\n",
    "\n",
    "1. $e_1, e_2 \\to (e_1 e_2, \\,{\\rm expand}(e_1 e_2))$\n",
    "2. $e_1, e_2 \\to (e_1, \\, e_1 (1+e_2)-e_1 e_2)$\n",
    "3. $e \\to (e, \\, e(1+e')-e e' )$ for $e'$ a random subexpression of $e$, or a random expression.\n",
    "4. ...\n",
    "\n",
    "Rational complicators:\n",
    "\n",
    "0. $e \\to \\left( \\frac{1}{e},\\, \\frac{e'}{ {\\rm expand}(e e')}    \\right)   $ for $e'$ a random subexpression of $e$, or a random expression.\n",
    "1. $e \\to \\left(\\frac{1}{e}, \\, \\frac{e+e'}{e e'} - \\frac{1}{e'} \\right) $ for $e'$ a random subexpression of $e$, or a random expression.\n",
    "2. $e_1, e_2 \\to \\left(\\frac{1}{e_1}+\\frac{1}{e_2}, \\, \\frac{e_1+e_2}{{\\rm expand}(e_1 e_2)}   \\right)  $\n",
    "3. ...\n",
    "\n",
    "\n",
    "\n",
    "\n",
    "\n"
   ]
  },
  {
   "cell_type": "code",
   "execution_count": 1,
   "metadata": {
    "id": "BgLGZUASuaNf"
   },
   "outputs": [],
   "source": [
    "import numpy as np\n",
    "from sympy import *\n",
    "\n",
    "x, y, z = symbols(\"x y z\")"
   ]
  },
  {
   "cell_type": "code",
   "execution_count": 2,
   "metadata": {
    "id": "0P0kt5_sDXut"
   },
   "outputs": [],
   "source": [
    "# from sympy import init_printing\n",
    "init_printing()\n",
    "from IPython.display import display"
   ]
  },
  {
   "cell_type": "code",
   "execution_count": 3,
   "metadata": {
    "id": "vZGANztmuitj"
   },
   "outputs": [],
   "source": [
    "def leaf_count(expr):\n",
    "    args = expr.args\n",
    "    if args:\n",
    "        return sum(leaf_count(a) for a in args)\n",
    "    else:\n",
    "        return 1"
   ]
  },
  {
   "cell_type": "code",
   "execution_count": 4,
   "metadata": {
    "id": "vsqsE3J19koq"
   },
   "outputs": [],
   "source": [
    "def node_count(expr):\n",
    "    # args = expr.args\n",
    "    if not expr.is_Atom:\n",
    "        return 1 + sum(leaf_count(a) for a in expr.args)\n",
    "    else:\n",
    "        return 1"
   ]
  },
  {
   "cell_type": "code",
   "execution_count": 5,
   "metadata": {
    "id": "nIMUXRoj_jTD"
   },
   "outputs": [],
   "source": [
    "def get_coords(expr, depth=np.inf, height=0, exclude=[]):\n",
    "    if height <= 0 and not expr.func in exclude:\n",
    "        coords = [[]]\n",
    "    else:\n",
    "        coords = []\n",
    "    if expr.is_Atom or depth == 0:\n",
    "        return coords\n",
    "\n",
    "    args = list(enumerate(expr.args))\n",
    "    if \"exponents\" in exclude and expr.func == Pow:\n",
    "        args = args[:-1]\n",
    "    for i, a in args:\n",
    "        coords += [\n",
    "            [\n",
    "                i,\n",
    "            ]\n",
    "            + c\n",
    "            for c in get_coords(a, depth=depth - 1, height=height - 1)\n",
    "        ]\n",
    "    return coords"
   ]
  },
  {
   "cell_type": "code",
   "execution_count": 8,
   "metadata": {
    "id": "Njsp-CoyhnoB"
   },
   "outputs": [],
   "source": [
    "def get_subexpression(expr, coord):\n",
    "    if coord:\n",
    "        return get_subexpression(expr.args[coord[0]], coord[1:])\n",
    "    return expr"
   ]
  },
  {
   "cell_type": "code",
   "execution_count": 9,
   "metadata": {
    "id": "EAKNdvVG1mfw"
   },
   "outputs": [],
   "source": [
    "def get_nodes(expr):\n",
    "    def _get_nodes(e, p):\n",
    "        if not e.is_Atom:\n",
    "            return [tree_node(e, p)] + sum([_get_nodes(a, e) for a in e.args], [])\n",
    "        else:\n",
    "            return [tree_node(e, p)]\n",
    "\n",
    "    return _get_nodes(expr, None)"
   ]
  },
  {
   "cell_type": "code",
   "execution_count": 10,
   "metadata": {
    "id": "H_JPhv3X9rp6"
   },
   "outputs": [],
   "source": [
    "def map_on_subexpression(function, expr, coord, *funcargs, **funckwargs):\n",
    "    \"\"\"\n",
    "    coord: a list representing directions to traverse the tree from the trunk to some particular subexpression.\n",
    "\n",
    "    Might be inefficient implementation... This is because sympy expressions seemingly cannot be changed in-place.\n",
    "    \"\"\"\n",
    "    if coord:\n",
    "        i = coord.pop(0)\n",
    "        return expr.func(\n",
    "            *(\n",
    "                expr.args[:i]\n",
    "                + (\n",
    "                    map_on_subexpression(\n",
    "                        function, expr.args[i], coord, *funcargs, **funckwargs\n",
    "                    ),\n",
    "                )\n",
    "                + expr.args[i + 1 :]\n",
    "            )\n",
    "        )\n",
    "    return function(expr, *funcargs, **funckwargs)"
   ]
  },
  {
   "cell_type": "code",
   "execution_count": 11,
   "metadata": {
    "colab": {
     "base_uri": "https://localhost:8080/",
     "height": 92
    },
    "id": "nZmkH5ftud2T",
    "outputId": "5e604055-a57c-4f0b-8f42-10b4a8fc86ac"
   },
   "outputs": [
    {
     "name": "stdout",
     "output_type": "stream",
     "text": [
      "The leaf count before expanding: 6 7\n",
      "The leaf count after expanding: 23 24\n",
      "The leaf count after simplifying: 23 24\n"
     ]
    },
    {
     "data": {
      "text/latex": "$\\displaystyle x^{8} - 4 x^{7} + 10 x^{6} - 16 x^{5} + 19 x^{4} - 16 x^{3} + 10 x^{2} - 4 x + 1$",
      "text/plain": [
       " 8      7       6       5       4       3       2          \n",
       "x  - 4⋅x  + 10⋅x  - 16⋅x  + 19⋅x  - 16⋅x  + 10⋅x  - 4⋅x + 1"
      ]
     },
     "execution_count": 11,
     "metadata": {},
     "output_type": "execute_result"
    }
   ],
   "source": [
    "expr = (x**2 - x + 1) ** 4\n",
    "print(\"The leaf count before expanding:\", leaf_count(expr), node_count(expr))\n",
    "expr = expand(expr)\n",
    "print(\"The leaf count after expanding:\", leaf_count(expr), node_count(expr))\n",
    "expr = simplify(expr)\n",
    "print(\"The leaf count after simplifying:\", leaf_count(expr), node_count(expr))\n",
    "expr"
   ]
  },
  {
   "cell_type": "markdown",
   "metadata": {
    "id": "fPoImgYxv6ux"
   },
   "source": [
    "# Random generator"
   ]
  },
  {
   "cell_type": "code",
   "execution_count": 12,
   "metadata": {
    "id": "Z_wesW3RyaLE"
   },
   "outputs": [],
   "source": [
    "from random import choice, randint\n",
    "from sympy import FunctionClass, Add, Mul, cos, sin, binomial, arity, S"
   ]
  },
  {
   "cell_type": "code",
   "execution_count": 13,
   "metadata": {
    "id": "8klhRqijv-FW"
   },
   "outputs": [],
   "source": [
    "def random_args(n, atoms, funcs, evaluate=True):\n",
    "    a = funcs + atoms\n",
    "    g = []\n",
    "    for _ in range(n):\n",
    "        ai = choice(a)\n",
    "        if isinstance(ai, FunctionClass):\n",
    "            g.append(ai(*random_args(arity(ai), atoms, funcs), evaluate=evaluate))\n",
    "        else:\n",
    "            g.append(ai)\n",
    "    return g\n",
    "\n",
    "\n",
    "def random_expr(ops, atoms, funcs=(), evaluate=True, inversion_prob=0.1):\n",
    "    types = [Add, Mul]\n",
    "    atoms = tuple(atoms)\n",
    "    while 1:\n",
    "        e = S.Zero\n",
    "        while e.count_ops() < ops:\n",
    "            _ = choice(types)(\n",
    "                *random_args(randint(1, 3), atoms, funcs, evaluate=evaluate),\n",
    "                evaluate=evaluate,\n",
    "            )\n",
    "            e = choice(types)(\n",
    "                e,\n",
    "                _ ** np.random.choice((1, -1), p=(1 - inversion_prob, inversion_prob)),\n",
    "                evaluate=evaluate,\n",
    "            )\n",
    "            if e is S.NaN:\n",
    "                break\n",
    "        else:\n",
    "            return e\n",
    "\n",
    "\n",
    "def random_expr_if_none(expr, *args, **kwargs):\n",
    "    return expr if expr is not None else random_expr(*args, **kwargs)\n",
    "\n",
    "\n",
    "def expr_grabber(l, *args, **kwargs):\n",
    "    \"\"\"\n",
    "    l should have the form [None, (actual expressions)]\n",
    "    \"\"\"\n",
    "    prob = 0.1\n",
    "\n",
    "    def random_from_list():\n",
    "        p = np.ones(len(l)) * (1 - prob) / len(l)\n",
    "        p[0] += prob\n",
    "        expr = np.random.choice(l, p=p)\n",
    "        return expr if expr is not None else random_expr(*args, **kwargs)\n",
    "\n",
    "    return random_from_list\n",
    "\n",
    "\n",
    "def random_coord(expr, **kwargs):\n",
    "    return choice(get_coords(expr, **kwargs))\n",
    "\n",
    "\n",
    "def random_subexpression(expr, **kwargs):\n",
    "    coord = random_coord(expr, **kwargs)\n",
    "    return (coord, get_subexpression(expr, coord))"
   ]
  },
  {
   "cell_type": "markdown",
   "metadata": {
    "id": "tCtQhTXV1ODe"
   },
   "source": [
    "# Complicator"
   ]
  },
  {
   "cell_type": "code",
   "execution_count": 14,
   "metadata": {
    "id": "MoyuXS-MIFM_"
   },
   "outputs": [],
   "source": [
    "import inspect\n",
    "\n",
    "\n",
    "def gen_trick_1(e1, e2):\n",
    "    return (e1 * e2, expand(e1 * e2))\n",
    "\n",
    "\n",
    "def gen_trick_2(e1, e2):\n",
    "    return (1 / e1 + 1 / e2, (e1 + e2) / (expand(e1 * e2)))\n",
    "\n",
    "\n",
    "gen_tricks = [gen_trick_1, gen_trick_2]\n",
    "\n",
    "\n",
    "def generate_simplifiable(eg):\n",
    "    trick = np.random.choice(gen_tricks)\n",
    "    return trick(*(eg() for _ in inspect.signature(trick).parameters))"
   ]
  },
  {
   "cell_type": "code",
   "execution_count": 15,
   "metadata": {
    "id": "44aHhjHAJz7l"
   },
   "outputs": [],
   "source": [
    "def comp_trick_1(e, eg):\n",
    "    ep = eg()\n",
    "    return expand(e * ep) / ep\n",
    "\n",
    "\n",
    "def comp_trick_2(e, eg):\n",
    "    ep = eg()\n",
    "    return e * (1 + ep) - expand(e * ep)\n",
    "\n",
    "\n",
    "def comp_trick_3(e, eg):\n",
    "    ep = eg()\n",
    "    return expand(e * ep) / ep\n",
    "\n",
    "\n",
    "comp_tricks = [comp_trick_1, comp_trick_2, comp_trick_3]"
   ]
  },
  {
   "cell_type": "code",
   "execution_count": 16,
   "metadata": {
    "id": "ut_LPILuqHsx"
   },
   "outputs": [],
   "source": [
    "# First approach - uses \"comp tricks\" to obtain equivalent expression. Currently seems to be to easy for \"simplify\"\n",
    "def complicate(n=3):\n",
    "    l = [None]\n",
    "    eg = expr_grabber(l, 3, (randint(1, 5), x, y))\n",
    "    esimp, ecomp = generate_simplifiable(eg)\n",
    "    print(f\"The node count of the simple expression is: {node_count(esimp)}\")\n",
    "    print(f\"The node count of the complicated expression is: {node_count(ecomp)}\")\n",
    "    l += list(esimp.args)\n",
    "    for _ in range(n):\n",
    "        trick = np.random.choice(comp_tricks)\n",
    "        coord, subexp = random_subexpression(\n",
    "            ecomp, depth=3, height=1, exclude=[\"exponents\"]\n",
    "        )\n",
    "        ecomp, l = (\n",
    "            map_on_subexpression(\n",
    "                lambda x: trick(x, eg),\n",
    "                ecomp,\n",
    "                # random_node(ecomp,depth=3, height =1),\n",
    "                coord,\n",
    "            ),\n",
    "            # trick(ecomp, eg),\n",
    "            l + [subexp],\n",
    "        )\n",
    "        # l = [None]+l[-6:]\n",
    "        print(f\"The node count of the complicated expression is: {node_count(ecomp)}\")\n",
    "    return esimp, ecomp"
   ]
  },
  {
   "cell_type": "code",
   "execution_count": 17,
   "metadata": {
    "id": "eFcBcdIBnpXY"
   },
   "outputs": [],
   "source": [
    "# Second approach - only generates new, inequivalent expressions. Seems to be harder to crack\n",
    "\n",
    "\n",
    "def complicate(n=7, rand_gen_args=(3, (randint(1, 5), x, y)), **kwargs):\n",
    "    list_of_expressions = [None]\n",
    "    eg = expr_grabber(list_of_expressions, *rand_gen_args, **kwargs)\n",
    "    for _ in range(n):\n",
    "        esimp, ecomp = generate_simplifiable(eg)\n",
    "        # print(f\"The node count of the simple expression is: {node_count(esimp)}\")\n",
    "        # print(f\"The node count of the complicated expression is: {node_count(ecomp)}\")\n",
    "        list_of_expressions += list(esimp.args) + [esimp]\n",
    "        # make sure not to use too simple subexpressions:\n",
    "        list_of_expressions = [None] + list_of_expressions[-6:]\n",
    "    return esimp, ecomp"
   ]
  },
  {
   "cell_type": "markdown",
   "metadata": {
    "id": "IrvHGXs7mDej"
   },
   "source": [
    "# Generate and save dataset"
   ]
  },
  {
   "cell_type": "code",
   "execution_count": 18,
   "metadata": {
    "id": "BXqSi_Dex9db"
   },
   "outputs": [],
   "source": [
    "from itertools import product\n",
    "\n",
    "configs = [\n",
    "    {\n",
    "        \"rand gen args\": (3, vars),\n",
    "        \"number of complications\": n,\n",
    "        \"number of datapoints\": 100,\n",
    "    }\n",
    "    for vars, n in product([(x,), (x, y), (x, y, z)], [5, 7])\n",
    "]"
   ]
  },
  {
   "cell_type": "code",
   "execution_count": 30,
   "metadata": {
    "id": "P29NXNNHzQR6"
   },
   "outputs": [],
   "source": [
    "datapoints = []\n",
    "for config in configs:\n",
    "    for _ in range(config[\"number of datapoints\"]):\n",
    "        esimp, ecomp = complicate(\n",
    "            n=config[\"number of complications\"],\n",
    "            rand_gen_args=(lambda rga: (rga[0], (randint(1, 5),) + rga[1]))(\n",
    "                config[\"rand gen args\"]\n",
    "            ),\n",
    "        )\n",
    "        secomp = simplify(ecomp)\n",
    "        datapoints.append(\n",
    "            {\n",
    "                \"expr\": ecomp,\n",
    "                \"simp\": esimp,\n",
    "                \"simplified\": secomp,\n",
    "                \"node count expr\": node_count(ecomp),\n",
    "                \"node count simp\": node_count(esimp),\n",
    "                \"node count simplified\": node_count(secomp),\n",
    "            }\n",
    "        )"
   ]
  },
  {
   "cell_type": "code",
   "execution_count": 29,
   "metadata": {
    "id": "sDCywXYQWFZh"
   },
   "outputs": [],
   "source": [
    "import json\n",
    "import pandas as pd"
   ]
  },
  {
   "cell_type": "code",
   "execution_count": 90,
   "metadata": {
    "id": "H_h2kqyyZuTZ"
   },
   "outputs": [],
   "source": [
    "df = pd.DataFrame.from_dict(datapoints)\n",
    "df[df.columns[:3]] = df[df.columns[:3]].map(str)\n",
    "df[\"difficulty\"] = df[\"node count expr\"] - df[\"node count simp\"]\n",
    "with open(\"data/data.json\", \"w\") as f:\n",
    "    df.to_json(f)"
   ]
  },
  {
   "cell_type": "markdown",
   "metadata": {
    "id": "CZ8s8JK5l7uj"
   },
   "source": [
    "# Analyze dataset"
   ]
  },
  {
   "cell_type": "code",
   "execution_count": 91,
   "metadata": {
    "id": "q_yyjLGVeUYs"
   },
   "outputs": [],
   "source": [
    "with open(\"data/data.json\", \"r\") as f:\n",
    "    df = pd.read_json(f)\n",
    "df[df.columns[:3]] = df[df.columns[:3]].map(sympify)"
   ]
  },
  {
   "cell_type": "code",
   "execution_count": 92,
   "metadata": {
    "colab": {
     "base_uri": "https://localhost:8080/",
     "height": 328
    },
    "id": "wnFnDYoZmkT3",
    "outputId": "bbf70127-4ace-4dc1-d80d-ff2ebab4ec53"
   },
   "outputs": [
    {
     "data": {
      "application/vnd.google.colaboratory.intrinsic+json": {
       "summary": "{\n  \"name\": \"df\",\n  \"rows\": 200,\n  \"fields\": [\n    {\n      \"column\": \"expr\",\n      \"properties\": {\n        \"dtype\": \"string\",\n        \"num_unique_values\": 200,\n        \"samples\": [\n          \"8*x**4 + 66*x**3 + 176*x**2 + 168*x + 32\",\n          \"(2*x + 5 + 25/x**2)/(x**2 + 5*x + 25/x + 125/x**2)\",\n          \"2*x**2/(4*x**2 + 2*x + 4) + 2*x**2/(4*x + 98/3) + 17*x/(8*x**2 + 4*x + 8) + 17*x/(8*x + 196/3)\"\n        ],\n        \"semantic_type\": \"\",\n        \"description\": \"\"\n      }\n    },\n    {\n      \"column\": \"simp\",\n      \"properties\": {\n        \"dtype\": \"string\",\n        \"num_unique_values\": 200,\n        \"samples\": [\n          \"(x + 2)**2*(2*x + 1/2)*(4*x + 16)\",\n          \"1/(x + 25/x**2) + 1/(x + 5)\",\n          \"2*x*(x + 17/4)*(1/(4*x**2 + 2*x + 4) + 1/(4*x + 98/3))\"\n        ],\n        \"semantic_type\": \"\",\n        \"description\": \"\"\n      }\n    },\n    {\n      \"column\": \"simplified\",\n      \"properties\": {\n        \"dtype\": \"string\",\n        \"num_unique_values\": 200,\n        \"samples\": [\n          \"8*x**4 + 66*x**3 + 176*x**2 + 168*x + 32\",\n          \"(x**2*(2*x + 5) + 25)/(x**3*(x + 5) + 25*x + 125)\",\n          \"x*(24*x**3 + 138*x**2 + 373*x + 935)/(48*x**3 + 416*x**2 + 244*x + 392)\"\n        ],\n        \"semantic_type\": \"\",\n        \"description\": \"\"\n      }\n    },\n    {\n      \"column\": \"node count expr\",\n      \"properties\": {\n        \"dtype\": \"number\",\n        \"std\": 12,\n        \"min\": 3,\n        \"max\": 74,\n        \"num_unique_values\": 50,\n        \"samples\": [\n          4,\n          58,\n          28\n        ],\n        \"semantic_type\": \"\",\n        \"description\": \"\"\n      }\n    },\n    {\n      \"column\": \"node count simp\",\n      \"properties\": {\n        \"dtype\": \"number\",\n        \"std\": 4,\n        \"min\": 3,\n        \"max\": 21,\n        \"num_unique_values\": 19,\n        \"samples\": [\n          11,\n          21,\n          4\n        ],\n        \"semantic_type\": \"\",\n        \"description\": \"\"\n      }\n    },\n    {\n      \"column\": \"node count simplified\",\n      \"properties\": {\n        \"dtype\": \"number\",\n        \"std\": 8,\n        \"min\": 3,\n        \"max\": 47,\n        \"num_unique_values\": 35,\n        \"samples\": [\n          25,\n          28,\n          8\n        ],\n        \"semantic_type\": \"\",\n        \"description\": \"\"\n      }\n    },\n    {\n      \"column\": \"difficulty\",\n      \"properties\": {\n        \"dtype\": \"number\",\n        \"std\": 10,\n        \"min\": -2,\n        \"max\": 59,\n        \"num_unique_values\": 38,\n        \"samples\": [\n          20,\n          23,\n          6\n        ],\n        \"semantic_type\": \"\",\n        \"description\": \"\"\n      }\n    }\n  ]\n}",
       "type": "dataframe",
       "variable_name": "df"
      },
      "text/html": [
       "\n",
       "  <div id=\"df-02c570da-0f03-44ed-a7ba-1cf2db20983f\" class=\"colab-df-container\">\n",
       "    <div>\n",
       "<style scoped>\n",
       "    .dataframe tbody tr th:only-of-type {\n",
       "        vertical-align: middle;\n",
       "    }\n",
       "\n",
       "    .dataframe tbody tr th {\n",
       "        vertical-align: top;\n",
       "    }\n",
       "\n",
       "    .dataframe thead th {\n",
       "        text-align: right;\n",
       "    }\n",
       "</style>\n",
       "<table border=\"1\" class=\"dataframe\">\n",
       "  <thead>\n",
       "    <tr style=\"text-align: right;\">\n",
       "      <th></th>\n",
       "      <th>expr</th>\n",
       "      <th>simp</th>\n",
       "      <th>simplified</th>\n",
       "      <th>node count expr</th>\n",
       "      <th>node count simp</th>\n",
       "      <th>node count simplified</th>\n",
       "      <th>difficulty</th>\n",
       "    </tr>\n",
       "  </thead>\n",
       "  <tbody>\n",
       "    <tr>\n",
       "      <th>0</th>\n",
       "      <td>(5*x**2/(5*x + 25) + 1/(x*(x + 10) + x))*(5*x*...</td>\n",
       "      <td>x*(x + 10) + x + (5*x + 25)/(5*x**2)</td>\n",
       "      <td>(x**4 + 11*x**3 + x + 5)/x**2</td>\n",
       "      <td>24</td>\n",
       "      <td>11</td>\n",
       "      <td>10</td>\n",
       "      <td>13</td>\n",
       "    </tr>\n",
       "    <tr>\n",
       "      <th>1</th>\n",
       "      <td>x**4</td>\n",
       "      <td>x**4</td>\n",
       "      <td>x**4</td>\n",
       "      <td>3</td>\n",
       "      <td>3</td>\n",
       "      <td>3</td>\n",
       "      <td>0</td>\n",
       "    </tr>\n",
       "    <tr>\n",
       "      <th>2</th>\n",
       "      <td>1/(100*x**3 + 25002*x**2/25 + 12504*x/5 + 2)</td>\n",
       "      <td>1/((x + 5)*(2*x + 10)*(50*x + 1/25))</td>\n",
       "      <td>25/(2500*x**3 + 25002*x**2 + 62520*x + 50)</td>\n",
       "      <td>11</td>\n",
       "      <td>12</td>\n",
       "      <td>12</td>\n",
       "      <td>-1</td>\n",
       "    </tr>\n",
       "    <tr>\n",
       "      <th>3</th>\n",
       "      <td>(x*(x + 6) + 2*x + 1/(9*x*(x + 6)))/(x**2/(9*x...</td>\n",
       "      <td>9*x*(x + 6) + 1/(x*(x + 6) + 2*x)</td>\n",
       "      <td>(9*x**2*(x + 6)*(x + 8) + 1)/(x*(x + 8))</td>\n",
       "      <td>29</td>\n",
       "      <td>11</td>\n",
       "      <td>14</td>\n",
       "      <td>18</td>\n",
       "    </tr>\n",
       "    <tr>\n",
       "      <th>4</th>\n",
       "      <td>(x + 4)*(1024*x**2/(x + 4) + 2)/(2048*x**2)</td>\n",
       "      <td>1/2 + (x + 4)/(1024*x**2)</td>\n",
       "      <td>(512*x**2 + x + 4)/(1024*x**2)</td>\n",
       "      <td>13</td>\n",
       "      <td>7</td>\n",
       "      <td>9</td>\n",
       "      <td>6</td>\n",
       "    </tr>\n",
       "  </tbody>\n",
       "</table>\n",
       "</div>\n",
       "    <div class=\"colab-df-buttons\">\n",
       "\n",
       "  <div class=\"colab-df-container\">\n",
       "    <button class=\"colab-df-convert\" onclick=\"convertToInteractive('df-02c570da-0f03-44ed-a7ba-1cf2db20983f')\"\n",
       "            title=\"Convert this dataframe to an interactive table.\"\n",
       "            style=\"display:none;\">\n",
       "\n",
       "  <svg xmlns=\"http://www.w3.org/2000/svg\" height=\"24px\" viewBox=\"0 -960 960 960\">\n",
       "    <path d=\"M120-120v-720h720v720H120Zm60-500h600v-160H180v160Zm220 220h160v-160H400v160Zm0 220h160v-160H400v160ZM180-400h160v-160H180v160Zm440 0h160v-160H620v160ZM180-180h160v-160H180v160Zm440 0h160v-160H620v160Z\"/>\n",
       "  </svg>\n",
       "    </button>\n",
       "\n",
       "  <style>\n",
       "    .colab-df-container {\n",
       "      display:flex;\n",
       "      gap: 12px;\n",
       "    }\n",
       "\n",
       "    .colab-df-convert {\n",
       "      background-color: #E8F0FE;\n",
       "      border: none;\n",
       "      border-radius: 50%;\n",
       "      cursor: pointer;\n",
       "      display: none;\n",
       "      fill: #1967D2;\n",
       "      height: 32px;\n",
       "      padding: 0 0 0 0;\n",
       "      width: 32px;\n",
       "    }\n",
       "\n",
       "    .colab-df-convert:hover {\n",
       "      background-color: #E2EBFA;\n",
       "      box-shadow: 0px 1px 2px rgba(60, 64, 67, 0.3), 0px 1px 3px 1px rgba(60, 64, 67, 0.15);\n",
       "      fill: #174EA6;\n",
       "    }\n",
       "\n",
       "    .colab-df-buttons div {\n",
       "      margin-bottom: 4px;\n",
       "    }\n",
       "\n",
       "    [theme=dark] .colab-df-convert {\n",
       "      background-color: #3B4455;\n",
       "      fill: #D2E3FC;\n",
       "    }\n",
       "\n",
       "    [theme=dark] .colab-df-convert:hover {\n",
       "      background-color: #434B5C;\n",
       "      box-shadow: 0px 1px 3px 1px rgba(0, 0, 0, 0.15);\n",
       "      filter: drop-shadow(0px 1px 2px rgba(0, 0, 0, 0.3));\n",
       "      fill: #FFFFFF;\n",
       "    }\n",
       "  </style>\n",
       "\n",
       "    <script>\n",
       "      const buttonEl =\n",
       "        document.querySelector('#df-02c570da-0f03-44ed-a7ba-1cf2db20983f button.colab-df-convert');\n",
       "      buttonEl.style.display =\n",
       "        google.colab.kernel.accessAllowed ? 'block' : 'none';\n",
       "\n",
       "      async function convertToInteractive(key) {\n",
       "        const element = document.querySelector('#df-02c570da-0f03-44ed-a7ba-1cf2db20983f');\n",
       "        const dataTable =\n",
       "          await google.colab.kernel.invokeFunction('convertToInteractive',\n",
       "                                                    [key], {});\n",
       "        if (!dataTable) return;\n",
       "\n",
       "        const docLinkHtml = 'Like what you see? Visit the ' +\n",
       "          '<a target=\"_blank\" href=https://colab.research.google.com/notebooks/data_table.ipynb>data table notebook</a>'\n",
       "          + ' to learn more about interactive tables.';\n",
       "        element.innerHTML = '';\n",
       "        dataTable['output_type'] = 'display_data';\n",
       "        await google.colab.output.renderOutput(dataTable, element);\n",
       "        const docLink = document.createElement('div');\n",
       "        docLink.innerHTML = docLinkHtml;\n",
       "        element.appendChild(docLink);\n",
       "      }\n",
       "    </script>\n",
       "  </div>\n",
       "\n",
       "\n",
       "<div id=\"df-fa152880-e7fb-4e42-96c7-c7e9bf92cdc4\">\n",
       "  <button class=\"colab-df-quickchart\" onclick=\"quickchart('df-fa152880-e7fb-4e42-96c7-c7e9bf92cdc4')\"\n",
       "            title=\"Suggest charts\"\n",
       "            style=\"display:none;\">\n",
       "\n",
       "<svg xmlns=\"http://www.w3.org/2000/svg\" height=\"24px\"viewBox=\"0 0 24 24\"\n",
       "     width=\"24px\">\n",
       "    <g>\n",
       "        <path d=\"M19 3H5c-1.1 0-2 .9-2 2v14c0 1.1.9 2 2 2h14c1.1 0 2-.9 2-2V5c0-1.1-.9-2-2-2zM9 17H7v-7h2v7zm4 0h-2V7h2v10zm4 0h-2v-4h2v4z\"/>\n",
       "    </g>\n",
       "</svg>\n",
       "  </button>\n",
       "\n",
       "<style>\n",
       "  .colab-df-quickchart {\n",
       "      --bg-color: #E8F0FE;\n",
       "      --fill-color: #1967D2;\n",
       "      --hover-bg-color: #E2EBFA;\n",
       "      --hover-fill-color: #174EA6;\n",
       "      --disabled-fill-color: #AAA;\n",
       "      --disabled-bg-color: #DDD;\n",
       "  }\n",
       "\n",
       "  [theme=dark] .colab-df-quickchart {\n",
       "      --bg-color: #3B4455;\n",
       "      --fill-color: #D2E3FC;\n",
       "      --hover-bg-color: #434B5C;\n",
       "      --hover-fill-color: #FFFFFF;\n",
       "      --disabled-bg-color: #3B4455;\n",
       "      --disabled-fill-color: #666;\n",
       "  }\n",
       "\n",
       "  .colab-df-quickchart {\n",
       "    background-color: var(--bg-color);\n",
       "    border: none;\n",
       "    border-radius: 50%;\n",
       "    cursor: pointer;\n",
       "    display: none;\n",
       "    fill: var(--fill-color);\n",
       "    height: 32px;\n",
       "    padding: 0;\n",
       "    width: 32px;\n",
       "  }\n",
       "\n",
       "  .colab-df-quickchart:hover {\n",
       "    background-color: var(--hover-bg-color);\n",
       "    box-shadow: 0 1px 2px rgba(60, 64, 67, 0.3), 0 1px 3px 1px rgba(60, 64, 67, 0.15);\n",
       "    fill: var(--button-hover-fill-color);\n",
       "  }\n",
       "\n",
       "  .colab-df-quickchart-complete:disabled,\n",
       "  .colab-df-quickchart-complete:disabled:hover {\n",
       "    background-color: var(--disabled-bg-color);\n",
       "    fill: var(--disabled-fill-color);\n",
       "    box-shadow: none;\n",
       "  }\n",
       "\n",
       "  .colab-df-spinner {\n",
       "    border: 2px solid var(--fill-color);\n",
       "    border-color: transparent;\n",
       "    border-bottom-color: var(--fill-color);\n",
       "    animation:\n",
       "      spin 1s steps(1) infinite;\n",
       "  }\n",
       "\n",
       "  @keyframes spin {\n",
       "    0% {\n",
       "      border-color: transparent;\n",
       "      border-bottom-color: var(--fill-color);\n",
       "      border-left-color: var(--fill-color);\n",
       "    }\n",
       "    20% {\n",
       "      border-color: transparent;\n",
       "      border-left-color: var(--fill-color);\n",
       "      border-top-color: var(--fill-color);\n",
       "    }\n",
       "    30% {\n",
       "      border-color: transparent;\n",
       "      border-left-color: var(--fill-color);\n",
       "      border-top-color: var(--fill-color);\n",
       "      border-right-color: var(--fill-color);\n",
       "    }\n",
       "    40% {\n",
       "      border-color: transparent;\n",
       "      border-right-color: var(--fill-color);\n",
       "      border-top-color: var(--fill-color);\n",
       "    }\n",
       "    60% {\n",
       "      border-color: transparent;\n",
       "      border-right-color: var(--fill-color);\n",
       "    }\n",
       "    80% {\n",
       "      border-color: transparent;\n",
       "      border-right-color: var(--fill-color);\n",
       "      border-bottom-color: var(--fill-color);\n",
       "    }\n",
       "    90% {\n",
       "      border-color: transparent;\n",
       "      border-bottom-color: var(--fill-color);\n",
       "    }\n",
       "  }\n",
       "</style>\n",
       "\n",
       "  <script>\n",
       "    async function quickchart(key) {\n",
       "      const quickchartButtonEl =\n",
       "        document.querySelector('#' + key + ' button');\n",
       "      quickchartButtonEl.disabled = true;  // To prevent multiple clicks.\n",
       "      quickchartButtonEl.classList.add('colab-df-spinner');\n",
       "      try {\n",
       "        const charts = await google.colab.kernel.invokeFunction(\n",
       "            'suggestCharts', [key], {});\n",
       "      } catch (error) {\n",
       "        console.error('Error during call to suggestCharts:', error);\n",
       "      }\n",
       "      quickchartButtonEl.classList.remove('colab-df-spinner');\n",
       "      quickchartButtonEl.classList.add('colab-df-quickchart-complete');\n",
       "    }\n",
       "    (() => {\n",
       "      let quickchartButtonEl =\n",
       "        document.querySelector('#df-fa152880-e7fb-4e42-96c7-c7e9bf92cdc4 button');\n",
       "      quickchartButtonEl.style.display =\n",
       "        google.colab.kernel.accessAllowed ? 'block' : 'none';\n",
       "    })();\n",
       "  </script>\n",
       "</div>\n",
       "\n",
       "    </div>\n",
       "  </div>\n"
      ],
      "text/plain": [
       "                                                expr  \\\n",
       "0  (5*x**2/(5*x + 25) + 1/(x*(x + 10) + x))*(5*x*...   \n",
       "1                                               x**4   \n",
       "2       1/(100*x**3 + 25002*x**2/25 + 12504*x/5 + 2)   \n",
       "3  (x*(x + 6) + 2*x + 1/(9*x*(x + 6)))/(x**2/(9*x...   \n",
       "4        (x + 4)*(1024*x**2/(x + 4) + 2)/(2048*x**2)   \n",
       "\n",
       "                                   simp  \\\n",
       "0  x*(x + 10) + x + (5*x + 25)/(5*x**2)   \n",
       "1                                  x**4   \n",
       "2  1/((x + 5)*(2*x + 10)*(50*x + 1/25))   \n",
       "3     9*x*(x + 6) + 1/(x*(x + 6) + 2*x)   \n",
       "4             1/2 + (x + 4)/(1024*x**2)   \n",
       "\n",
       "                                   simplified  node count expr  \\\n",
       "0               (x**4 + 11*x**3 + x + 5)/x**2               24   \n",
       "1                                        x**4                3   \n",
       "2  25/(2500*x**3 + 25002*x**2 + 62520*x + 50)               11   \n",
       "3    (9*x**2*(x + 6)*(x + 8) + 1)/(x*(x + 8))               29   \n",
       "4              (512*x**2 + x + 4)/(1024*x**2)               13   \n",
       "\n",
       "   node count simp  node count simplified  difficulty  \n",
       "0               11                     10          13  \n",
       "1                3                      3           0  \n",
       "2               12                     12          -1  \n",
       "3               11                     14          18  \n",
       "4                7                      9           6  "
      ]
     },
     "execution_count": 92,
     "metadata": {},
     "output_type": "execute_result"
    }
   ],
   "source": [
    "df.head()"
   ]
  },
  {
   "cell_type": "code",
   "execution_count": 89,
   "metadata": {
    "colab": {
     "base_uri": "https://localhost:8080/",
     "height": 397
    },
    "id": "iya1wQcdoWPJ",
    "outputId": "adaea5fd-381c-4dc7-ee4b-b4d1638552c8"
   },
   "outputs": [
    {
     "data": {
      "text/latex": "$\\displaystyle \\frac{\\left(\\frac{5 x^{2}}{5 x + 25} + \\frac{1}{x \\left(x + 10\\right) + x}\\right) \\left(5 x^{3} + 80 x^{2} + 275 x\\right)}{5 x^{2}}$",
      "text/plain": [
       "⎛     2                   ⎞                       \n",
       "⎜  5⋅x            1       ⎟ ⎛   3       2        ⎞\n",
       "⎜──────── + ──────────────⎟⋅⎝5⋅x  + 80⋅x  + 275⋅x⎠\n",
       "⎝5⋅x + 25   x⋅(x + 10) + x⎠                       \n",
       "──────────────────────────────────────────────────\n",
       "                          2                       \n",
       "                       5⋅x                        "
      ]
     },
     "metadata": {},
     "output_type": "display_data"
    },
    {
     "data": {
      "text/latex": "$\\displaystyle x \\left(x + 10\\right) + x + \\frac{5 x + 25}{5 x^{2}}$",
      "text/plain": [
       "                 5⋅x + 25\n",
       "x⋅(x + 10) + x + ────────\n",
       "                      2  \n",
       "                   5⋅x   "
      ]
     },
     "metadata": {},
     "output_type": "display_data"
    },
    {
     "data": {
      "text/latex": "$\\displaystyle x^{4}$",
      "text/plain": [
       " 4\n",
       "x "
      ]
     },
     "metadata": {},
     "output_type": "display_data"
    },
    {
     "data": {
      "text/latex": "$\\displaystyle x^{4}$",
      "text/plain": [
       " 4\n",
       "x "
      ]
     },
     "metadata": {},
     "output_type": "display_data"
    },
    {
     "data": {
      "text/latex": "$\\displaystyle \\frac{1}{100 x^{3} + \\frac{25002 x^{2}}{25} + \\frac{12504 x}{5} + 2}$",
      "text/plain": [
       "               1               \n",
       "───────────────────────────────\n",
       "                2              \n",
       "     3   25002⋅x    12504⋅x    \n",
       "100⋅x  + ──────── + ─────── + 2\n",
       "            25         5       "
      ]
     },
     "metadata": {},
     "output_type": "display_data"
    },
    {
     "data": {
      "text/latex": "$\\displaystyle \\frac{1}{\\left(x + 5\\right) \\left(2 x + 10\\right) \\left(50 x + \\frac{1}{25}\\right)}$",
      "text/plain": [
       "               1                \n",
       "────────────────────────────────\n",
       "(x + 5)⋅(2⋅x + 10)⋅(50⋅x + 1/25)"
      ]
     },
     "metadata": {},
     "output_type": "display_data"
    },
    {
     "data": {
      "text/latex": "$\\displaystyle \\frac{x \\left(x + 6\\right) + 2 x + \\frac{1}{9 x \\left(x + 6\\right)}}{\\frac{x^{2}}{9 x^{2} + 54 x} + \\frac{8 x}{9 x^{2} + 54 x}}$",
      "text/plain": [
       "                       1     \n",
       "x⋅(x + 6) + 2⋅x + ───────────\n",
       "                  9⋅x⋅(x + 6)\n",
       "─────────────────────────────\n",
       "       2                     \n",
       "      x             8⋅x      \n",
       "  ─────────── + ───────────  \n",
       "     2             2         \n",
       "  9⋅x  + 54⋅x   9⋅x  + 54⋅x  "
      ]
     },
     "metadata": {},
     "output_type": "display_data"
    },
    {
     "data": {
      "text/latex": "$\\displaystyle 9 x \\left(x + 6\\right) + \\frac{1}{x \\left(x + 6\\right) + 2 x}$",
      "text/plain": [
       "                     1       \n",
       "9⋅x⋅(x + 6) + ───────────────\n",
       "              x⋅(x + 6) + 2⋅x"
      ]
     },
     "metadata": {},
     "output_type": "display_data"
    },
    {
     "data": {
      "text/latex": "$\\displaystyle \\frac{\\left(x + 4\\right) \\left(\\frac{1024 x^{2}}{x + 4} + 2\\right)}{2048 x^{2}}$",
      "text/plain": [
       "        ⎛      2    ⎞\n",
       "        ⎜1024⋅x     ⎟\n",
       "(x + 4)⋅⎜─────── + 2⎟\n",
       "        ⎝ x + 4     ⎠\n",
       "─────────────────────\n",
       "             2       \n",
       "       2048⋅x        "
      ]
     },
     "metadata": {},
     "output_type": "display_data"
    },
    {
     "data": {
      "text/latex": "$\\displaystyle \\frac{1}{2} + \\frac{x + 4}{1024 x^{2}}$",
      "text/plain": [
       "1    x + 4 \n",
       "─ + ───────\n",
       "2         2\n",
       "    1024⋅x "
      ]
     },
     "metadata": {},
     "output_type": "display_data"
    }
   ],
   "source": [
    "[display(*d) for d in df[[\"expr\", \"simp\"]].head().values]\n",
    "pass"
   ]
  },
  {
   "cell_type": "code",
   "execution_count": 93,
   "metadata": {
    "cellView": "form",
    "colab": {
     "base_uri": "https://localhost:8080/",
     "height": 452
    },
    "id": "cXvZkXILqCCM",
    "outputId": "40616976-0871-413a-ee3d-d385c243434c"
   },
   "outputs": [
    {
     "data": {
      "image/png": "[encoded data removed]",
      "text/plain": [
       "<Figure size 640x480 with 1 Axes>"
      ]
     },
     "metadata": {},
     "output_type": "display_data"
    }
   ],
   "source": [
    "# @title difficulty\n",
    "\n",
    "from matplotlib import pyplot as plt\n",
    "\n",
    "df[\"difficulty\"].plot(kind=\"hist\", bins=20, title=\"difficulty\")\n",
    "plt.gca().spines[\n",
    "    [\n",
    "        \"top\",\n",
    "        \"right\",\n",
    "    ]\n",
    "].set_visible(False)"
   ]
  },
  {
   "cell_type": "code",
   "execution_count": 71,
   "metadata": {
    "colab": {
     "base_uri": "https://localhost:8080/",
     "height": 449
    },
    "id": "ITZwLO8tm6s-",
    "outputId": "e6358721-93f9-4954-b1dc-d00a9c6f4223"
   },
   "outputs": [
    {
     "data": {
      "image/png": "[encoded data removed]",
      "text/plain": [
       "<Figure size 640x480 with 1 Axes>"
      ]
     },
     "metadata": {},
     "output_type": "display_data"
    }
   ],
   "source": [
    "# @title node count expr vs node count simp\n",
    "\n",
    "from matplotlib import pyplot as plt\n",
    "\n",
    "df.plot(kind=\"scatter\", x=\"node count expr\", y=\"node count simp\", s=32, alpha=0.8)\n",
    "plt.gca().spines[\n",
    "    [\n",
    "        \"top\",\n",
    "        \"right\",\n",
    "    ]\n",
    "].set_visible(False)"
   ]
  },
  {
   "cell_type": "code",
   "execution_count": 73,
   "metadata": {
    "colab": {
     "base_uri": "https://localhost:8080/",
     "height": 449
    },
    "id": "z6W6gL4jnTcQ",
    "outputId": "0f05261c-1c39-462e-c677-d09542d4ee7a"
   },
   "outputs": [
    {
     "data": {
      "image/png": "[encoded data removed]",
      "text/plain": [
       "<Figure size 640x480 with 1 Axes>"
      ]
     },
     "metadata": {},
     "output_type": "display_data"
    }
   ],
   "source": [
    "# @title node count simp vs node count simplified\n",
    "\n",
    "from matplotlib import pyplot as plt\n",
    "\n",
    "df.plot(kind=\"scatter\", x=\"node count simp\", y=\"node count simplified\", s=32, alpha=0.8)\n",
    "plt.gca().spines[\n",
    "    [\n",
    "        \"top\",\n",
    "        \"right\",\n",
    "    ]\n",
    "].set_visible(False)"
   ]
  },
  {
   "cell_type": "markdown",
   "metadata": {
    "id": "Cc8279vRzs2E"
   },
   "source": [
    "# Miscellaneous"
   ]
  },
  {
   "cell_type": "code",
   "execution_count": null,
   "metadata": {
    "colab": {
     "base_uri": "https://localhost:8080/",
     "height": 39
    },
    "id": "e_RWi0VmMfK2",
    "outputId": "c18ebe11-e34e-41db-a5ba-d161a43188c1"
   },
   "outputs": [
    {
     "data": {
      "text/latex": "$\\displaystyle x^{8} - 4 x^{7} + 10 x^{6} - 16 x^{5} + 19 x^{4} - 16 x^{3} + 10 x^{2} - 4 x + 1$",
      "text/plain": [
       " 8      7       6       5       4       3       2          \n",
       "x  - 4⋅x  + 10⋅x  - 16⋅x  + 19⋅x  - 16⋅x  + 10⋅x  - 4⋅x + 1"
      ]
     },
     "execution_count": 68,
     "metadata": {},
     "output_type": "execute_result"
    }
   ],
   "source": [
    "collect(expr, x**2 - x + 1)"
   ]
  },
  {
   "cell_type": "code",
   "execution_count": null,
   "metadata": {
    "colab": {
     "base_uri": "https://localhost:8080/",
     "height": 61
    },
    "id": "u20Z3W-p_OKH",
    "outputId": "cc68109d-bf57-48c0-f83a-c82ed78690ab"
   },
   "outputs": [
    {
     "data": {
      "text/latex": "$\\displaystyle x^{8} - 4 x^{7} + 10 x^{6} - 16 x^{5} + 19 x^{4} - 16 x^{3} + 10 x^{2} - 4 x + 1$",
      "text/plain": [
       " 8      7       6       5       4       3       2          \n",
       "x  - 4⋅x  + 10⋅x  - 16⋅x  + 19⋅x  - 16⋅x  + 10⋅x  - 4⋅x + 1"
      ]
     },
     "metadata": {},
     "output_type": "display_data"
    },
    {
     "data": {
      "text/latex": "$\\displaystyle x^{8} - 4 x^{7} + 10 x^{6} + 19 x^{4} - 16 x^{3} + 10 x^{2} - 4 x - 16 y^{5} + 1$",
      "text/plain": [
       " 8      7       6       4       3       2             5    \n",
       "x  - 4⋅x  + 10⋅x  + 19⋅x  - 16⋅x  + 10⋅x  - 4⋅x - 16⋅y  + 1"
      ]
     },
     "execution_count": 8,
     "metadata": {},
     "output_type": "execute_result"
    }
   ],
   "source": [
    "display(expr)\n",
    "map_on_subexpression(lambda a: a.subs(x, y), expr, [3])"
   ]
  }
 ],
 "metadata": {
  "colab": {
   "authorship_tag": "ABX9TyOmcyyCQ0wECNnp0M+FHnXz",
   "include_colab_link": true,
   "provenance": []
  },
  "kernelspec": {
   "display_name": "Python 3",
   "name": "python3"
  },
  "language_info": {
   "name": "python"
  }
 },
 "nbformat": 4,
 "nbformat_minor": 0
}